{
 "cells": [
  {
   "cell_type": "code",
   "execution_count": 50,
   "metadata": {
    "collapsed": true,
    "scrolled": true
   },
   "outputs": [],
   "source": [
    "from ecpy.curves import Curve, Point, ECPyException\n",
    "import os\n",
    "import struct"
   ]
  },
  {
   "cell_type": "markdown",
   "metadata": {},
   "source": [
    "# Useful Functions\n",
    "\n",
    "Below is a list of useful function, these can be ignored as they are not essential to understand the protocol."
   ]
  },
  {
   "cell_type": "code",
   "execution_count": 17,
   "metadata": {
    "collapsed": true
   },
   "outputs": [],
   "source": [
    "def uint256_to_str(s):\n",
    "    \"\"\"Convert bytes to uint256\"\"\"\n",
    "    assert 0 <= s < 2**256\n",
    "    t = []\n",
    "    for i in range(8):\n",
    "        t.append((s >> (i * 32) & 0xffffffff))\n",
    "    s = struct.pack(b\"<IIIIIIII\", *t)\n",
    "    return s\n",
    "\n",
    "def uint256_from_str(s):\n",
    "    \"\"\"Convert bytes to uint256\"\"\"\n",
    "    r = 0\n",
    "    t = struct.unpack(b\"<IIIIIIII\", s[:32])\n",
    "    for i in range(8):\n",
    "        r += t[i] << (i * 32)\n",
    "    return r\n",
    "\n",
    "def make_random_point(curve, rnd_bytes=os.urandom):\n",
    "    while True:\n",
    "        x = uint256_from_str(rnd_bytes(32))\n",
    "        y = cv.x_recover(x)\n",
    "        try: point = Point(x, y, curve)\n",
    "        except ECPyException: continue\n",
    "        break\n",
    "    \n",
    "    if (rnd_bytes(1)) % 2 == 0:\n",
    "        point.y = -point.y\n",
    "        \n",
    "    return point"
   ]
  },
  {
   "cell_type": "markdown",
   "metadata": {},
   "source": [
    "# Elliptic Curve Parameters\n",
    "\n",
    "Here is a list of the elliptic curve parameters used in this demonstration, along with datatype as well."
   ]
  },
  {
   "cell_type": "code",
   "execution_count": 33,
   "metadata": {
    "collapsed": true
   },
   "outputs": [],
   "source": [
    "curve = Curve.get_curve('secp256k1')\n",
    "G = curve.generator\n",
    "field = curve.field\n",
    "order = curve.order\n",
    "\n",
    "assert type(order) is int\n",
    "assert type(field) is int\n",
    "assert type(G) is Point"
   ]
  },
  {
   "cell_type": "markdown",
   "metadata": {},
   "source": [
    "# Public Key/Private Key\n",
    "\n",
    "Here is the step where we generate the public and private key. We will make the following assumption.\n",
    "\n",
    "Even if you know what $G$ and $A$ are, there exists no polynomial time algorithm to compute $a$ (Discrete log assumption).\n",
    "\n",
    "Alternatively the following lines can be written like this.\n",
    "\n",
    "$a \\in F_p$\n",
    "\n",
    "$A = g^a$"
   ]
  },
  {
   "cell_type": "code",
   "execution_count": 51,
   "metadata": {},
   "outputs": [
    {
     "ename": "TypeError",
     "evalue": "unsupported operand type(s) for /: 'Point' and 'Point'",
     "output_type": "error",
     "traceback": [
      "\u001b[1;31m---------------------------------------------------------------------------\u001b[0m",
      "\u001b[1;31mTypeError\u001b[0m                                 Traceback (most recent call last)",
      "\u001b[1;32m<ipython-input-51-8e95e294333c>\u001b[0m in \u001b[0;36m<module>\u001b[1;34m()\u001b[0m\n\u001b[0;32m      3\u001b[0m \u001b[0mA\u001b[0m \u001b[1;33m=\u001b[0m \u001b[0ma\u001b[0m\u001b[1;33m*\u001b[0m\u001b[0mG\u001b[0m\u001b[1;33m\u001b[0m\u001b[0m\n\u001b[0;32m      4\u001b[0m \u001b[1;32massert\u001b[0m \u001b[0mA\u001b[0m \u001b[1;33m==\u001b[0m \u001b[0ma\u001b[0m\u001b[1;33m*\u001b[0m\u001b[0mG\u001b[0m\u001b[1;33m\u001b[0m\u001b[0m\n\u001b[1;32m----> 5\u001b[1;33m \u001b[0mprint\u001b[0m\u001b[1;33m(\u001b[0m\u001b[0mA\u001b[0m\u001b[1;33m/\u001b[0m\u001b[0mG\u001b[0m\u001b[1;33m)\u001b[0m\u001b[1;33m\u001b[0m\u001b[0m\n\u001b[0m",
      "\u001b[1;31mTypeError\u001b[0m: unsupported operand type(s) for /: 'Point' and 'Point'"
     ]
    }
   ],
   "source": [
    "# a is our private key\n",
    "a = uint256_from_str(os.urandom(32))\n",
    "A = a*G\n",
    "assert A == a*G\n",
    "print(A/G) # This will fail however it shows that you can't just divide A and G to get back a."
   ]
  },
  {
   "cell_type": "markdown",
   "metadata": {},
   "source": [
    "# Schnorr Protocol\n",
    "\n",
    "We will be using a varient of the Schnorr Protocol, however it is important to understand this example."
   ]
  },
  {
   "cell_type": "code",
   "execution_count": 32,
   "metadata": {
    "collapsed": true
   },
   "outputs": [],
   "source": [
    "## TAG\n",
    "\n",
    "# Secret: a, t\n",
    "# Public: T\n",
    "\n",
    "# Step 1 create blinding factor\n",
    "t = uint256_from_str(os.urandom(32)) % order\n",
    "\n",
    "# Commit the value t and send the result to the reader.\n",
    "T = t*G"
   ]
  },
  {
   "cell_type": "code",
   "execution_count": 31,
   "metadata": {
    "collapsed": true
   },
   "outputs": [],
   "source": [
    "## READER\n",
    "# Receives T from the tag above.\n",
    "# Computes a challenge c and sends this off the reader.\n",
    "c = uint256_from_str(os.urandom(32)) % order"
   ]
  },
  {
   "cell_type": "code",
   "execution_count": 30,
   "metadata": {
    "collapsed": true
   },
   "outputs": [],
   "source": [
    "## TAG\n",
    "# Secret: a, t\n",
    "# Compute s and send this to the reader\n",
    "s = (a*c + t) % order"
   ]
  },
  {
   "cell_type": "code",
   "execution_count": 29,
   "metadata": {
    "collapsed": true
   },
   "outputs": [],
   "source": [
    "## READER\n",
    "# Check s\n",
    "assert s*G == c*A + T"
   ]
  },
  {
   "cell_type": "markdown",
   "metadata": {},
   "source": [
    "## Why This is Correct\n",
    "\n",
    "Okay so given $T=g^t$, $c$, and $A=g^a$ how do we know that the $s$ is correct.\n",
    "\n",
    "$\\begin{align*} g^s &= g^{a*c + t} \\\\ \n",
    "                    &= g^{a*c} g^{t} \\\\\n",
    "                    &= A^{c}T\\end{align*}$\n",
    "                    \n",
    "Keep in mind that $c$, $A$ and $T$ are public. Furthermore, as long as $c$ and $t$ is randomly selected, then we cannot reconstruct $a$."
   ]
  },
  {
   "cell_type": "markdown",
   "metadata": {
    "collapsed": true
   },
   "source": [
    "#### Modified Schnorr Protocol (Algorithm we propose to use)\n",
    "\n",
    "Long story short, this is really similar to the first example. The main difference is that in the first example, you have to assume that the reader sends you random challenges or else your secret can be reveals. In these scheme, you don't have the trust that the reader is honest."
   ]
  },
  {
   "cell_type": "code",
   "execution_count": 52,
   "metadata": {},
   "outputs": [],
   "source": [
    "## TAG\n",
    "\n",
    "# Step 1 create blinding factor\n",
    "r = uint256_from_str(os.urandom(32)) % order\n",
    "\n",
    "# commitment\n",
    "R = r*G\n",
    "\n",
    "# Send commitment to Reader"
   ]
  },
  {
   "cell_type": "code",
   "execution_count": 42,
   "metadata": {
    "collapsed": true
   },
   "outputs": [],
   "source": [
    "# READER\n",
    "\n",
    "# Reader creates a secret\n",
    "y = uint256_from_str(os.urandom(32)) % order\n",
    "\n",
    "# reader's public key\n",
    "Y = y*G\n",
    "\n",
    "# make challenge and send to tag\n",
    "e = uint256_from_str(os.urandom(32)) % order"
   ]
  },
  {
   "cell_type": "code",
   "execution_count": 44,
   "metadata": {
    "collapsed": true
   },
   "outputs": [],
   "source": [
    "# TAG\n",
    "d = (r*Y).x\n",
    "s = (d + a + e*r) % order\n",
    "# send s"
   ]
  },
  {
   "cell_type": "code",
   "execution_count": 45,
   "metadata": {},
   "outputs": [],
   "source": [
    "# READER\n",
    "d_prime = (y*R).x\n",
    "assert s*G - d_prime*G - e*R == A"
   ]
  },
  {
   "cell_type": "code",
   "execution_count": null,
   "metadata": {
    "collapsed": true
   },
   "outputs": [],
   "source": []
  }
 ],
 "metadata": {
  "kernelspec": {
   "display_name": "Python 3",
   "language": "python",
   "name": "python3"
  },
  "language_info": {
   "codemirror_mode": {
    "name": "ipython",
    "version": 3
   },
   "file_extension": ".py",
   "mimetype": "text/x-python",
   "name": "python",
   "nbconvert_exporter": "python",
   "pygments_lexer": "ipython3",
   "version": "3.6.1"
  }
 },
 "nbformat": 4,
 "nbformat_minor": 2
}
